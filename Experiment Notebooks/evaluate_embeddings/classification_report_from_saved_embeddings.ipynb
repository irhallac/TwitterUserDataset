{
 "cells": [
  {
   "cell_type": "markdown",
   "metadata": {},
   "source": [
    "### Evaluating user embeddings - Accuracy, precision, recall, and F1 score calculation\n",
    "\n",
    "With this notebook we can evaluate the models by the inferred user vectors. <br>\n",
    "\n",
    "It is not practical to infer new user vectors everytime when we need them. Therefore we save them for later uses.<br>\n",
    "We saved the embeddings of the training and test users. We also calculated then saved the category vectors by averaging the embeddings of the training users. <br>\n",
    "\n",
    "#### Input (necessary files)\n",
    "\n",
    "> _reviewFunctions.py:_ user2vec model testing class <br>\n",
    "\n",
    "> _Embedding files: evaluate_embeddings/embeddings\n",
    ">> **categories_train.json** :  saved category vectors (calculated with trainin users' embeddings. Embeddings of 5 categories. <br>\n",
    ">> **users_test.json** : embeddings to evaluate. Embeddings of 40 users. <br>"
   ]
  },
  {
   "cell_type": "code",
   "execution_count": 1,
   "metadata": {},
   "outputs": [],
   "source": [
    "# coding: utf-8\n",
    "#Import all  dependencies\n",
    "import os\n",
    "here = os.getcwd()\n",
    "\n",
    "import json\n",
    "from sklearn import metrics"
   ]
  },
  {
   "cell_type": "code",
   "execution_count": 2,
   "metadata": {},
   "outputs": [],
   "source": [
    "# read Json files i.e., categories_train.json \n",
    "def readJson(path):\n",
    "    with open(path, 'r') as outfile:\n",
    "        data = json.load(outfile)\n",
    "    outfile.close()\n",
    "    return data"
   ]
  },
  {
   "cell_type": "code",
   "execution_count": 3,
   "metadata": {},
   "outputs": [],
   "source": [
    "path_category_vecs = os.path.join(here,\"embeddings\",\"categories_train.json\") #embeddings of categories\n",
    "path_user_vecs = os.path.join(here,\"embeddings\",\"users_test.json\") #embeddings of test users\n",
    "\n",
    "category_vecs = readJson(path_category_vecs)\n",
    "user_vecs = readJson(path_user_vecs)"
   ]
  },
  {
   "cell_type": "code",
   "execution_count": 4,
   "metadata": {},
   "outputs": [
    {
     "name": "stdout",
     "output_type": "stream",
     "text": [
      "/vol/ibrahim/.conda/envs/py37irh/bin/python\n",
      "user2vec_test class __init__ method successful\n"
     ]
    }
   ],
   "source": [
    "from reviewFunctions import user2vec_test\n",
    "uvt = user2vec_test(user_vecs=user_vecs, ctg_vecs=category_vecs)  # embedding test class\n"
   ]
  },
  {
   "cell_type": "code",
   "execution_count": 5,
   "metadata": {},
   "outputs": [],
   "source": [
    "# conf matrix\n",
    "true_labels = []\n",
    "predicted_labes = []"
   ]
  },
  {
   "cell_type": "code",
   "execution_count": 6,
   "metadata": {},
   "outputs": [],
   "source": [
    "for unm in uvt.user_vecs.keys():\n",
    "    true_labels.append(uvt.getUserCategory(unm))\n",
    "    predicted_labes.append(uvt.most_similar_group(unm))"
   ]
  },
  {
   "cell_type": "code",
   "execution_count": 7,
   "metadata": {},
   "outputs": [
    {
     "name": "stdout",
     "output_type": "stream",
     "text": [
      "              precision    recall  f1-score   support\n",
      "\n",
      "twcollector1      0.974     0.950     0.962        40\n",
      "twcollector2      1.000     0.950     0.974        40\n",
      "twcollector3      0.951     0.975     0.963        40\n",
      "twcollector4      1.000     1.000     1.000        40\n",
      "twcollector5      0.952     1.000     0.976        40\n",
      "\n",
      "    accuracy                          0.975       200\n",
      "   macro avg      0.976     0.975     0.975       200\n",
      "weighted avg      0.976     0.975     0.975       200\n",
      "\n"
     ]
    }
   ],
   "source": [
    "print(metrics.classification_report(true_labels, predicted_labes, digits=3))"
   ]
  }
 ],
 "metadata": {
  "kernelspec": {
   "display_name": "Python 3",
   "language": "python",
   "name": "python3"
  },
  "language_info": {
   "codemirror_mode": {
    "name": "ipython",
    "version": 3
   },
   "file_extension": ".py",
   "mimetype": "text/x-python",
   "name": "python",
   "nbconvert_exporter": "python",
   "pygments_lexer": "ipython3",
   "version": "3.7.3"
  }
 },
 "nbformat": 4,
 "nbformat_minor": 2
}
